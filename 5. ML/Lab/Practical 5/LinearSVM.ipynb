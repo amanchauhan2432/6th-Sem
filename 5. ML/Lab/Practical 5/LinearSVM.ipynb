{
 "cells": [
  {
   "cell_type": "markdown",
   "metadata": {},
   "source": [
    "# Practical 5\n",
    "## Write  a  program  to  implement  linear  Support  Vector  Machine  algorithm  using  a  set  of training data samples."
   ]
  },
  {
   "cell_type": "code",
   "execution_count": 17,
   "metadata": {},
   "outputs": [],
   "source": [
    "import numpy as np\n",
    "import matplotlib.pyplot as plt\n",
    "%matplotlib inline"
   ]
  },
  {
   "cell_type": "code",
   "execution_count": 18,
   "metadata": {},
   "outputs": [],
   "source": [
    "X = np.array([[1.6,0.3], [1.8,0.5], [2.0,0.7], [2.2,0.4], [2.4,0.6], [2.3,0.5], [2.1,0.5],\n",
    "              [1.7,1.7], [2.5,1.0], [1.0,3.0], [2.0,1.5], [1.5,1.5], [1.5,2.0], [1.0,2.5],\n",
    "              [1.6,1.6], [2.4,0.9], [0.9,2.9], [1.9,1.4], [1.0,1.4], [1.4,1.9], [0.9,2.4],\n",
    "              [1.5,1.7], [2.3,1.1], [0.4,1.0], [1.0,0.7], [1.2,1.5], [1.2,1.0], [1.0,1.1],\n",
    "              [1.0,1.7], [1.3,1.1], [0.7,1.0], [0.4,0.7], [0.2,1.5], [0.2,1.0], [0.4,1.1],\n",
    "              [1.0,0.5], [1.3,0.1], [0.7,0.3], [0.4,0.4], [0.2,0.5], [0.2,0.1], [0.4,0.1],\n",
    "              [1.0,2.4], [1.3,2.1], [0.7,2.0], [0.4,2.7], [0.2,2.5], [0.2,2.0], [0.4,2.1],\n",
    "              [3.4,2.0], [3.5,2.1], [3.6,2.3], [3.4,2.4], [3.5,2.5], [3.1,2.6], [3.3,2.7],\n",
    "              [2.0,3.1], [3.5,1.0], [4.0,1.5], [3.0,3.0], [3.0,2.0], [2.5,2.5], [3.3,1.5],\n",
    "              [3.9,2.5], [3.9,2.0], [3.8,3.0], [3.8,2.9], [3.9,2.7], [3.9,2.5], [3.9,2.7],\n",
    "              [2.1,3.1], [3.6,1.1], [3.8,1.7], [3.2,3.1], [2.9,2.1], [2.6,2.4], [3.2,1.4],\n",
    "              [4.0,0.1], [3.9,0.2], [3.9,0.3], [3.7,0.5], [3.9,0.7], [3.9,0.4], [3.7,0.4]])\n",
    "\n",
    "\n",
    "Y = np.array([-1, -1, -1, -1, -1, -1, -1,\n",
    "              -1, -1, -1, -1, -1, -1, -1,\n",
    "              -1, -1, -1, -1, -1, -1, -1,\n",
    "              -1, -1, -1, -1, -1, -1, -1,\n",
    "              -1, -1, -1, -1, -1, -1, -1,\n",
    "              -1, -1, -1, -1, -1, -1, -1,\n",
    "              -1, -1, -1, -1, -1, -1, -1,\n",
    "              1, 1, 1, 1, 1, 1, 1,\n",
    "              1, 1, 1, 1, 1, 1, 1,\n",
    "              1, 1, 1, 1, 1, 1, 1,\n",
    "              1, 1, 1, 1, 1, 1, 1,\n",
    "              1, 1, 1, 1, 1, 1, 1])"
   ]
  },
  {
   "cell_type": "code",
   "execution_count": 19,
   "metadata": {},
   "outputs": [
    {
     "data": {
      "text/plain": [
       "[<matplotlib.lines.Line2D at 0x7fe630874460>]"
      ]
     },
     "execution_count": 19,
     "metadata": {},
     "output_type": "execute_result"
    },
    {
     "data": {
      "image/png": "[encoded data removed]",
      "text/plain": [
       "<Figure size 432x288 with 1 Axes>"
      ]
     },
     "metadata": {
      "needs_background": "light"
     },
     "output_type": "display_data"
    }
   ],
   "source": [
    "for i in range(len(X)):\n",
    "    if Y[i] == -1:\n",
    "        plt.scatter(X[i][0], X[i][1], s=120, marker='_', linewidths=2)\n",
    "    else:\n",
    "        plt.scatter(X[i][0], X[i][1], s=120, marker='+', linewidths=2)\n",
    "        \n",
    "plt.plot([3.6,1.5],[0.0,3.0],'r')"
   ]
  },
  {
   "cell_type": "code",
   "execution_count": 20,
   "metadata": {},
   "outputs": [],
   "source": [
    "def train_svm(X, Y, epochs=10000):\n",
    "    w = np.zeros(len(X[0]))\n",
    "\n",
    "    learning_rate = 1\n",
    "    \n",
    "    w0_per_epoch = []\n",
    "    w1_per_epoch = []\n",
    "    \n",
    "    print(\"starts training\")\n",
    "    for epoch in range(1, epochs):\n",
    "        error = 0\n",
    "        for i, x in enumerate(X):\n",
    "            if (Y[i] * np.dot(X[i], w)) < 1:\n",
    "                w = w + learning_rate * ((X[i] * Y[i]) + (-2 * (1/epochs) * w))\n",
    "            else:\n",
    "                w = w + learning_rate * (-2 * (1/epochs) * w)\n",
    "                \n",
    "        w0_per_epoch.append(w[0])\n",
    "        w1_per_epoch.append(w[1])\n",
    "    \n",
    "    return w, w0_per_epoch, w1_per_epoch"
   ]
  },
  {
   "cell_type": "code",
   "execution_count": 21,
   "metadata": {},
   "outputs": [
    {
     "name": "stdout",
     "output_type": "stream",
     "text": [
      "starts training\n",
      "[3.36748683 2.10292688]\n"
     ]
    }
   ],
   "source": [
    "w, w0array, w1array = train_svm(X, Y, epochs=10000)\n",
    "print(w)"
   ]
  },
  {
   "cell_type": "code",
   "execution_count": 22,
   "metadata": {},
   "outputs": [],
   "source": [
    "epochs = len(w0array)\n",
    "\n",
    "number_of_weights_to_graph = 100\n",
    "\n",
    "num_per_epoch = epochs/number_of_weights_to_graph\n",
    "\n",
    "w0_to_graph = []\n",
    "w1_to_graph = []\n",
    "epoch_to_graph = []\n",
    "\n",
    "for i in range(number_of_weights_to_graph):\n",
    "    epoch_to_graph.append(int(num_per_epoch*i))\n",
    "    w0_to_graph.append(w0array[int(num_per_epoch*i)])\n",
    "    w1_to_graph.append(w1array[int(num_per_epoch*i)])"
   ]
  },
  {
   "cell_type": "code",
   "execution_count": 23,
   "metadata": {},
   "outputs": [
    {
     "data": {
      "text/plain": [
       "<matplotlib.quiver.Quiver at 0x7fe6307e3e80>"
      ]
     },
     "execution_count": 23,
     "metadata": {},
     "output_type": "execute_result"
    },
    {
     "data": {
      "image/png": "[encoded data removed]",
      "text/plain": [
       "<Figure size 432x288 with 1 Axes>"
      ]
     },
     "metadata": {
      "needs_background": "light"
     },
     "output_type": "display_data"
    }
   ],
   "source": [
    "X = np.array([[1.6,0.3], [1.8,0.5], [2.0,0.7], [2.2,0.4], [2.4,0.6], [2.3,0.5], [2.1,0.5],\n",
    "              [1.7,1.7], [2.5,1.0], [1.0,3.0], [2.0,1.5], [1.5,1.5], [1.5,2.0], [1.0,2.5],\n",
    "              [1.6,1.6], [2.4,0.9], [0.9,2.9], [1.9,1.4], [1.0,1.4], [1.4,1.9], [0.9,2.4],\n",
    "              [1.5,1.7], [2.3,1.1], [0.4,1.0], [1.0,0.7], [1.2,1.5], [1.2,1.0], [1.0,1.1],\n",
    "              [1.0,1.7], [1.3,1.1], [0.7,1.0], [0.4,0.7], [0.2,1.5], [0.2,1.0], [0.4,1.1],\n",
    "              [1.0,0.5], [1.3,0.1], [0.7,0.3], [0.4,0.4], [0.2,0.5], [0.2,0.1], [0.4,0.1],\n",
    "              [1.0,2.4], [1.3,2.1], [0.7,2.0], [0.4,2.7], [0.2,2.5], [0.2,2.0], [0.4,2.1],\n",
    "              [3.4,2.0], [3.5,2.1], [3.6,2.3], [3.4,2.4], [3.5,2.5], [3.1,2.6], [3.3,2.7],\n",
    "              [2.0,3.1], [3.5,1.0], [4.0,1.5], [3.0,3.0], [3.0,2.0], [2.5,2.5], [3.3,1.5],\n",
    "              [3.9,2.5], [3.9,2.0], [3.8,3.0], [3.8,2.9], [3.9,2.7], [3.9,2.5], [3.9,2.7],\n",
    "              [2.1,3.1], [3.6,1.1], [3.8,1.7], [3.2,3.1], [2.9,2.1], [2.6,2.4], [3.2,1.4],\n",
    "              [4.0,0.1], [3.9,0.2], [3.9,0.3], [3.7,0.5], [3.9,0.7], [3.9,0.4], [3.7,0.4]])\n",
    "\n",
    "Y = np.array([-1, -1, -1, -1, -1, -1, -1,\n",
    "              -1, -1, -1, -1, -1, -1, -1,\n",
    "              -1, -1, -1, -1, -1, -1, -1,\n",
    "              -1, -1, -1, -1, -1, -1, -1,\n",
    "              -1, -1, -1, -1, -1, -1, -1,\n",
    "              -1, -1, -1, -1, -1, -1, -1,\n",
    "              -1, -1, -1, -1, -1, -1, -1,\n",
    "              1, 1, 1, 1, 1, 1, 1,\n",
    "              1, 1, 1, 1, 1, 1, 1,\n",
    "              1, 1, 1, 1, 1, 1, 1,\n",
    "              1, 1, 1, 1, 1, 1, 1,\n",
    "              1, 1, 1, 1, 1, 1, 1])\n",
    "\n",
    "\n",
    "for i in range(len(X)):\n",
    "    if Y[i] == -1:\n",
    "        plt.scatter(X[i][0], X[i][1], s=120, marker='_', linewidths=2)\n",
    "    else:\n",
    "        plt.scatter(X[i][0], X[i][1], s=120, marker='+', linewidths=2)\n",
    "\n",
    "x2=[w[0]*0.65,w[1],-w[1],w[0]]\n",
    "x3=[w[0]*0.65,w[1],w[1],-w[0]]\n",
    "\n",
    "x2x3 =np.array([x2,x3])\n",
    "X,Y,U,V = zip(*x2x3)\n",
    "ax = plt.gca()\n",
    "ax.quiver(X,Y,U,V,scale=1, color='blue')"
   ]
  }
 ],
 "metadata": {
  "kernelspec": {
   "display_name": "Python 3",
   "language": "python",
   "name": "python3"
  },
  "language_info": {
   "codemirror_mode": {
    "name": "ipython",
    "version": 3
   },
   "file_extension": ".py",
   "mimetype": "text/x-python",
   "name": "python",
   "nbconvert_exporter": "python",
   "pygments_lexer": "ipython3",
   "version": "3.8.5"
  }
 },
 "nbformat": 4,
 "nbformat_minor": 2
}
