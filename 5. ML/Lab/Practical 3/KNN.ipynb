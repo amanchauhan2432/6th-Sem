{
 "cells": [
  {
   "cell_type": "markdown",
   "metadata": {},
   "source": [
    "# Practical 3\n",
    "## Write  a  program  to  implement  k-Nearest  Neighbor  algorithm  using  a  set  of  training  data samples."
   ]
  },
  {
   "cell_type": "code",
   "execution_count": 58,
   "metadata": {},
   "outputs": [],
   "source": [
    "import numpy as np\n",
    "import matplotlib.pyplot as plt\n",
    "%matplotlib inline"
   ]
  },
  {
   "cell_type": "code",
   "execution_count": 59,
   "metadata": {},
   "outputs": [],
   "source": [
    "X = [[1590,2.9], [1540,2.7], [1600,2.6], [1590,2.7], [1520,2.5], [1540,2.4], [1560,2.3], [1490,2.3], [1510,2.4],\n",
    "     [1350,3.9], [1360,3.7], [1370,3.8], [1380,3.7], [1410,3.6], [1420,3.9], [1430,3.4], [1450,3.7], [1460,3.2],\n",
    "     [1590,3.9], [1540,3.7], [1600,3.6], [1490,3.7], [1520,3.5], [1540,3.4], [1560,3.3], [1460,3.3], [1510,3.4],\n",
    "     [1340,2.9], [1360,2.4], [1320,2.5], [1380,2.6], [1400,2.1], [1320,2.5], [1310,2.7], [1410,2.1], [1305,2.5],\n",
    "     [1460,2.7], [1500,2.9], [1300,3.5], [1320,3.6], [1400,2.7], [1300,3.1], [1350,3.1], [1360,2.9], [1305,3.9], \n",
    "     [1430,3.0], [1440,2.3], [1440,2.5], [1380,2.1], [1430,2.1], [1400,2.5], [1420,2.3], [1310,2.1], [1350,2.0]]\n",
    "\n",
    "Y = ['accepted','accepted','accepted','accepted','accepted','accepted','accepted','accepted','accepted',\n",
    "     'accepted','accepted','accepted','accepted','accepted','accepted','accepted','accepted','accepted',\n",
    "     'accepted','accepted','accepted','accepted','accepted','accepted','accepted','accepted','accepted',\n",
    "     'rejected','rejected','rejected','rejected','rejected','rejected','rejected','rejected','rejected',\n",
    "     'rejected','rejected','rejected','rejected','rejected','rejected','rejected','rejected','rejected',\n",
    "     'rejected','rejected','rejected','rejected','rejected','rejected','rejected','rejected','rejected']"
   ]
  },
  {
   "cell_type": "code",
   "execution_count": 60,
   "metadata": {},
   "outputs": [
    {
     "data": {
      "text/plain": [
       "[]"
      ]
     },
     "execution_count": 60,
     "metadata": {},
     "output_type": "execute_result"
    },
    {
     "data": {
      "image/png": "[encoded data removed]",
      "text/plain": [
       "<Figure size 432x288 with 1 Axes>"
      ]
     },
     "metadata": {
      "needs_background": "light"
     },
     "output_type": "display_data"
    }
   ],
   "source": [
    "for i in range(len(X)):\n",
    "    if Y[i] == 'accepted':\n",
    "        plt.scatter(X[i][0], X[i][1], s=10, marker='P', linewidths=2, color='green')\n",
    "    else:\n",
    "        plt.scatter(X[i][0], X[i][1], s=10, marker='P', linewidths=2, color='red')\n",
    "plt.plot()"
   ]
  },
  {
   "cell_type": "code",
   "execution_count": 61,
   "metadata": {},
   "outputs": [],
   "source": [
    "def most_found(array):\n",
    "    list_of_words = []\n",
    "    for i in range(len(array)):\n",
    "        if array[i] not in list_of_words:\n",
    "            list_of_words.append(array[i])\n",
    "            \n",
    "    most_counted = ''\n",
    "    n_of_most_counted = None\n",
    "    \n",
    "    for i in range(len(list_of_words)):\n",
    "        counted = array.count(list_of_words[i])\n",
    "        if n_of_most_counted == None:\n",
    "            most_counted = list_of_words[i]\n",
    "            n_of_most_counted = counted\n",
    "        elif n_of_most_counted < counted:\n",
    "            most_counted = list_of_words[i]\n",
    "            n_of_most_counted = counted\n",
    "        elif n_of_most_counted == counted:\n",
    "            most_counted = None\n",
    "            \n",
    "    return most_counted"
   ]
  },
  {
   "cell_type": "code",
   "execution_count": 62,
   "metadata": {},
   "outputs": [],
   "source": [
    "def find_neighbors(point, data, labels, k=3):\n",
    "    n_of_dimensions = len(point)\n",
    "    \n",
    "    neighbors = []\n",
    "    neighbor_labels = []\n",
    "    \n",
    "    for i in range(0, k):\n",
    "        nearest_neighbor_id = None\n",
    "        smallest_distance = None\n",
    "        \n",
    "        for i in range(0, len(data)):\n",
    "            eucledian_dist = 0\n",
    "            for d in range(0, n_of_dimensions):\n",
    "                dist = abs(point[d] - data[i][d])\n",
    "                eucledian_dist += dist\n",
    "                \n",
    "            eucledian_dist = np.sqrt(eucledian_dist)\n",
    "            \n",
    "            if smallest_distance == None:\n",
    "                smallest_distance = eucledian_dist\n",
    "                nearest_neighbor_id = i\n",
    "            elif smallest_distance > eucledian_dist:\n",
    "                smallest_distance = eucledian_dist\n",
    "                nearest_neighbor_id = i\n",
    "                \n",
    "        neighbors.append(data[nearest_neighbor_id])\n",
    "        neighbor_labels.append(labels[nearest_neighbor_id])\n",
    "        \n",
    "        data.remove(data[nearest_neighbor_id])\n",
    "        labels.remove(labels[nearest_neighbor_id])\n",
    "    return neighbor_labels\n",
    "\n",
    "def k_nearest_neighbor(point, data, labels, k=3):\n",
    "    \n",
    "    while True:\n",
    "        neighbor_labels = find_neighbors(point, data, labels, k=k)\n",
    "        label = most_found(neighbor_labels)\n",
    "        if label != None:\n",
    "            break\n",
    "        k += 1\n",
    "        if k >= len(data):\n",
    "            break\n",
    "            \n",
    "    return label"
   ]
  },
  {
   "cell_type": "code",
   "execution_count": 63,
   "metadata": {},
   "outputs": [
    {
     "data": {
      "text/plain": [
       "'accepted'"
      ]
     },
     "execution_count": 63,
     "metadata": {},
     "output_type": "execute_result"
    }
   ],
   "source": [
    "point = [1500, 2.3]\n",
    "k_nearest_neighbor(point, X, Y, k=3)"
   ]
  }
 ],
 "metadata": {
  "kernelspec": {
   "display_name": "Python 3",
   "language": "python",
   "name": "python3"
  },
  "language_info": {
   "codemirror_mode": {
    "name": "ipython",
    "version": 3
   },
   "file_extension": ".py",
   "mimetype": "text/x-python",
   "name": "python",
   "nbconvert_exporter": "python",
   "pygments_lexer": "ipython3",
   "version": "3.8.5"
  }
 },
 "nbformat": 4,
 "nbformat_minor": 2
}
