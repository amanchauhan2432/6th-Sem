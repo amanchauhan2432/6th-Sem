{
 "cells": [
  {
   "cell_type": "markdown",
   "metadata": {},
   "source": [
    "## K-Means Clustering Without ML Libraries ##\n",
    "K-Means Clustering is a machine learning tecnique used in unsupervised learning where we don't have labeled data. I wrote this algorithm without uing any of Machine Learning Libraries.\n",
    "\n",
    "### How K-Means Clustering Algorithm Works? ###\n",
    "- First algorithm creates k number of centers randomly.\n",
    "- Than, all data points are labeled using nearest centers.\n",
    "- Than, centers are moved to \"mean\" of their labeled data points.\n",
    "- Than stepa 2 and 3 are repeated."
   ]
  },
  {
   "cell_type": "markdown",
   "metadata": {},
   "source": [
    "### Import Libraries ###\n",
    "I use only numpy for math, random for random centers and matplotlib for data visualization"
   ]
  },
  {
   "cell_type": "code",
   "execution_count": 28,
   "metadata": {},
   "outputs": [],
   "source": [
    "import numpy as np\n",
    "import matplotlib.pyplot as plt\n",
    "import random\n",
    "# Use matplotlib in notebook output\n",
    "%matplotlib inline"
   ]
  },
  {
   "cell_type": "markdown",
   "metadata": {},
   "source": [
    "### Define Data ###\n",
    "First I will define a data to test the algorithm on. The data I am using in this notebook is fake data but to understand it, let's think it is player statistics of a soccer game."
   ]
  },
  {
   "cell_type": "code",
   "execution_count": 29,
   "metadata": {},
   "outputs": [],
   "source": [
    "# Data - [average passes, average goals (player goals - opponent goals)]\n",
    "X = [[100,5], [90,5], [110,5], [97,4], [102,4], [112,4], [92,4], [95,3], [90,3], [100,3],\n",
    "     [110,5], [100,5], [110,4], [93,3], [107,2], [117,3], [96,2], [105,3], [100,3], [110,3],\n",
    "     [60,-1], [70,-1],[40,1], [70,-3], [50,-1], [80,0],[50,0],[60,-1],[60,1],[55,0],\n",
    "     [40,-1], [45,-1],[40,0], [55,-3], [60,-1], [65,0],[70,0],[51,-2],[51,1],[48,0]]"
   ]
  },
  {
   "cell_type": "markdown",
   "metadata": {},
   "source": [
    "### Plot the data on a 2d graph ###"
   ]
  },
  {
   "cell_type": "code",
   "execution_count": 30,
   "metadata": {},
   "outputs": [
    {
     "data": {
      "text/plain": [
       "[<matplotlib.lines.Line2D at 0x7f2fe0d20f40>]"
      ]
     },
     "execution_count": 30,
     "metadata": {},
     "output_type": "execute_result"
    },
    {
     "data": {
      "image/png": "[encoded data removed]",
      "text/plain": [
       "<Figure size 432x288 with 1 Axes>"
      ]
     },
     "metadata": {
      "needs_background": "light"
     },
     "output_type": "display_data"
    }
   ],
   "source": [
    "plotx = []\n",
    "ploty = []\n",
    "for i in range(len(X)):\n",
    "    plotx.append(X[i][0])\n",
    "    ploty.append(X[i][1])\n",
    "plt.plot(plotx,ploty, 'bo')"
   ]
  },
  {
   "cell_type": "markdown",
   "metadata": {},
   "source": [
    "###  Helper Functions ###"
   ]
  },
  {
   "cell_type": "code",
   "execution_count": 31,
   "metadata": {},
   "outputs": [],
   "source": [
    "def random_centers(dim,k):\n",
    "    centers = []\n",
    "    for i in range(k):\n",
    "        center = []\n",
    "        for d in range(dim):\n",
    "            rand = random.randint(0,100)\n",
    "            center.append(rand)\n",
    "        centers.append(center)\n",
    "    return centers\n",
    "\n",
    "def point_clustering(data, centers, dims, first_cluster=False):\n",
    "    for point in data:\n",
    "        nearest_center = 0\n",
    "        nearest_center_dist = None\n",
    "        for i in range(0, len(centers)):\n",
    "            euclidean_dist = 0\n",
    "            for d in range(0, dims):\n",
    "                dist = abs(point[d] - centers[i][d])\n",
    "                euclidean_dist += dist\n",
    "            euclidean_dist = np.sqrt(euclidean_dist)\n",
    "            if nearest_center_dist == None:\n",
    "                nearest_center_dist = euclidean_dist\n",
    "                nearest_center = i\n",
    "            elif nearest_center_dist > euclidean_dist:\n",
    "                nearest_center_dist = euclidean_dist\n",
    "                nearest_center = i\n",
    "        if first_cluster:\n",
    "            point.append(nearest_center)\n",
    "        else:\n",
    "            point[-1] = nearest_center\n",
    "    return data\n",
    "\n",
    "def mean_center(data, centers, dims):\n",
    "    print('centers:', centers, 'dims:', dims)\n",
    "    new_centers = []\n",
    "    for i in range(len(centers)):\n",
    "        new_center = []\n",
    "        n_of_points = 0\n",
    "        total_of_points = []\n",
    "        for point in data:\n",
    "            if point[-1] == i:\n",
    "                n_of_points += 1\n",
    "                for dim in range(0,dims):\n",
    "                    if dim < len(total_of_points):\n",
    "                        total_of_points[dim] += point[dim]\n",
    "                    else:\n",
    "                        total_of_points.append(point[dim])\n",
    "        if len(total_of_points) != 0:\n",
    "            for dim in range(0,dims):\n",
    "                print(total_of_points, dim)\n",
    "                new_center.append(total_of_points[dim]/n_of_points)\n",
    "            new_centers.append(new_center)\n",
    "        else: \n",
    "            new_centers.append(centers[i])\n",
    "        \n",
    "            \n",
    "    return new_centers"
   ]
  },
  {
   "cell_type": "markdown",
   "metadata": {},
   "source": [
    "### K-Means Clustering Algorithm ###"
   ]
  },
  {
   "cell_type": "code",
   "execution_count": 32,
   "metadata": {},
   "outputs": [],
   "source": [
    "# Gets data and k, returns a list of center points.\n",
    "def train_k_means_clustering(data, k=2, epochs=5):\n",
    "    dims = len(data[0])\n",
    "    print('data[0]:',data[0])\n",
    "    centers = random_centers(dims,k)\n",
    "    \n",
    "    clustered_data = point_clustering(data, centers, dims, first_cluster=True)\n",
    "\n",
    "    for i in range(epochs):\n",
    "        centers = mean_center(clustered_data, centers, dims)\n",
    "        clustered_data = point_clustering(data, centers, dims, first_cluster=False)\n",
    "    \n",
    "    return centers\n",
    "\n",
    "def predict_k_means_clustering(point, centers):\n",
    "    dims = len(point)\n",
    "    center_dims = len(centers[0])\n",
    "    \n",
    "    if dims != center_dims:\n",
    "        raise ValueError('Point given for prediction have', dims, 'dimensions but centers have', center_dims, 'dimensions')\n",
    "\n",
    "    nearest_center = None\n",
    "    nearest_dist = None\n",
    "    \n",
    "    for i in range(len(centers)):\n",
    "        euclidean_dist = 0\n",
    "        for dim in range(1, dims):\n",
    "            dist = point[dim] - centers[i][dim]\n",
    "            euclidean_dist += dist**2\n",
    "        euclidean_dist = np.sqrt(euclidean_dist)\n",
    "        if nearest_dist == None:\n",
    "            nearest_dist = euclidean_dist\n",
    "            nearest_center = i\n",
    "        elif nearest_dist > euclidean_dist:\n",
    "            nearest_dist = euclidean_dist\n",
    "            nearest_center = i\n",
    "        print('center:',i, 'dist:',euclidean_dist)\n",
    "            \n",
    "    return nearest_center"
   ]
  },
  {
   "cell_type": "code",
   "execution_count": 33,
   "metadata": {},
   "outputs": [
    {
     "name": "stdout",
     "output_type": "stream",
     "text": [
      "data[0]: [100, 5]\n",
      "centers: [[42, 24], [98, 96]] dims: 2\n",
      "[3156, 61] 0\n",
      "[3156, 61] 1\n",
      "centers: [[78.9, 1.525], [98, 96]] dims: 2\n",
      "[3156, 61] 0\n",
      "[3156, 61] 1\n",
      "centers: [[78.9, 1.525], [98, 96]] dims: 2\n",
      "[3156, 61] 0\n",
      "[3156, 61] 1\n",
      "centers: [[78.9, 1.525], [98, 96]] dims: 2\n",
      "[3156, 61] 0\n",
      "[3156, 61] 1\n",
      "centers: [[78.9, 1.525], [98, 96]] dims: 2\n",
      "[3156, 61] 0\n",
      "[3156, 61] 1\n"
     ]
    }
   ],
   "source": [
    "centers = train_k_means_clustering(X, k=2, epochs=5)"
   ]
  },
  {
   "cell_type": "code",
   "execution_count": 34,
   "metadata": {},
   "outputs": [
    {
     "name": "stdout",
     "output_type": "stream",
     "text": [
      "[[78.9, 1.525], [98, 96]]\n"
     ]
    }
   ],
   "source": [
    "print(centers)"
   ]
  },
  {
   "cell_type": "code",
   "execution_count": 35,
   "metadata": {},
   "outputs": [
    {
     "name": "stdout",
     "output_type": "stream",
     "text": [
      "center: 0 dist: 1.475\n",
      "center: 1 dist: 93.0\n",
      "0\n"
     ]
    },
    {
     "data": {
      "text/plain": [
       "[<matplotlib.lines.Line2D at 0x7f2fe0ca1a60>,\n",
       " <matplotlib.lines.Line2D at 0x7f2fe0ca1b50>,\n",
       " <matplotlib.lines.Line2D at 0x7f2fe0ca1a00>,\n",
       " <matplotlib.lines.Line2D at 0x7f2fe0ca1d60>]"
      ]
     },
     "execution_count": 35,
     "metadata": {},
     "output_type": "execute_result"
    },
    {
     "data": {
      "image/png": "[encoded data removed]",
      "text/plain": [
       "<Figure size 432x288 with 1 Axes>"
      ]
     },
     "metadata": {
      "needs_background": "light"
     },
     "output_type": "display_data"
    }
   ],
   "source": [
    "point = [110,3]\n",
    "print(predict_k_means_clustering(point, centers))\n",
    "\n",
    "plt.plot(plotx,ploty, 'bo', centers[0][0], centers[0][1],'ro', centers[1][0], centers[1][1], 'go', point[0], point[1], 'yo')"
   ]
  }
 ],
 "metadata": {
  "kernelspec": {
   "display_name": "Python 3",
   "language": "python",
   "name": "python3"
  },
  "language_info": {
   "codemirror_mode": {
    "name": "ipython",
    "version": 3
   },
   "file_extension": ".py",
   "mimetype": "text/x-python",
   "name": "python",
   "nbconvert_exporter": "python",
   "pygments_lexer": "ipython3",
   "version": "3.8.5"
  }
 },
 "nbformat": 4,
 "nbformat_minor": 2
}
